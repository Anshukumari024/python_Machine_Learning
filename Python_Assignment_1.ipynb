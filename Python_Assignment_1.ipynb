{
 "cells": [
  {
   "cell_type": "code",
   "execution_count": 5,
   "id": "28bf07f9-2a4e-4142-8066-109999534f2b",
   "metadata": {},
   "outputs": [
    {
     "name": "stdout",
     "output_type": "stream",
     "text": [
      "Custom Exception Caught: Row length mismatch in CSV\n"
     ]
    }
   ],
   "source": [
    "class CSVFormatException(Exception):\n",
    "    def __init__(self, message):\n",
    "        super().__init__(message)\n",
    "\n",
    "data = [\n",
    "    [1.2, 3.4, 5.6],\n",
    "    [7.8, 9.0, 1.2],\n",
    "    [3.4, 5.6, 7.8]\n",
    "]\n",
    "\n",
    "import csv\n",
    "\n",
    "with open('data.csv', 'w', newline='') as file:\n",
    "    writer = csv.writer(file)\n",
    "    writer.writerows(data)\n",
    "\n",
    "read_data = []\n",
    "try:\n",
    "    with open('data.csv', 'r') as file:\n",
    "        reader = csv.reader(file)\n",
    "        for row in reader:\n",
    "            if len(row) != len(data[0]):\n",
    "                raise CSVFormatException(\"Row length mismatch in CSV\")\n",
    "            read_data.append([float(val) for val in row])\n",
    "except CSVFormatException as e:\n",
    "    print(\"Custom Exception Caught:\", e)\n"
   ]
  },
  {
   "cell_type": "code",
   "execution_count": null,
   "id": "d7f05553-7d07-4efd-9a46-1071b90b9fd3",
   "metadata": {},
   "outputs": [],
   "source": []
  },
  {
   "cell_type": "code",
   "execution_count": null,
   "id": "aa9d07f8-b559-4c97-9864-04cc1c518142",
   "metadata": {},
   "outputs": [],
   "source": []
  }
 ],
 "metadata": {
  "kernelspec": {
   "display_name": "Python 3 (ipykernel)",
   "language": "python",
   "name": "python3"
  },
  "language_info": {
   "codemirror_mode": {
    "name": "ipython",
    "version": 3
   },
   "file_extension": ".py",
   "mimetype": "text/x-python",
   "name": "python",
   "nbconvert_exporter": "python",
   "pygments_lexer": "ipython3",
   "version": "3.13.5"
  }
 },
 "nbformat": 4,
 "nbformat_minor": 5
}
